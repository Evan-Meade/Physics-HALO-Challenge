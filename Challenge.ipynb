{
 "cells": [
  {
   "cell_type": "markdown",
   "id": "0565fcea-6604-4515-9640-7494aef91f71",
   "metadata": {},
   "source": [
    "# Physics HALO Challenge\n",
    "\n",
    "Physics HALO, 2021\n",
    "\n",
    "Time to put your Python knowledge to the test! This notebook contains a series of challenge questions which can be solved using concepts from this weekend's lectures. Feel free to look back at the slides/notebooks for the lectures, talk amongst your team, and even **use the internet!** A key part of programming is learning how to look things up online, even when you become a professional, so don't be afraid to google anything here!\n",
    "\n",
    "The challenges start simple, and slowly increase in difficulty. Solve each problem in the spaces provided below the question. Some of the last ones will require creativity. Don't worry if you can't solve them all; it's intentionally designed that way so that you will have plenty to work on in these couple hours.\n",
    "\n",
    "If you need any clarification on a problem or are thoroughly stuck, please reach out to one of the event coordinators. Good luck, and have fun!"
   ]
  },
  {
   "cell_type": "markdown",
   "id": "6a55e50a-5367-4138-a300-4ecf5d4c8dab",
   "metadata": {},
   "source": [
    "## 0. Use this space to import any packages you need"
   ]
  },
  {
   "cell_type": "code",
   "execution_count": null,
   "id": "2917dccf-8fd7-4c1a-8c7d-d5d3e2764dde",
   "metadata": {},
   "outputs": [],
   "source": []
  },
  {
   "cell_type": "markdown",
   "id": "b5a25967-689e-42d3-8531-c1a3946e20fa",
   "metadata": {},
   "source": [
    "## 1. Data Types and Variables\n",
    "\n",
    "### a. Create a variable named `my_variable` which equals 205 squared\n",
    "\n",
    "Hint: There is a built-in function to raise a number to an exponent"
   ]
  },
  {
   "cell_type": "code",
   "execution_count": null,
   "id": "9151ae96-ec0d-430d-bfb0-4b7449e250fe",
   "metadata": {},
   "outputs": [],
   "source": []
  },
  {
   "cell_type": "markdown",
   "id": "9f81ce2f-b9ec-4e75-8251-8dc781abc5ae",
   "metadata": {},
   "source": [
    "### b. Define a list containing exactly four elements and three data types\n",
    "\n",
    "Hint: `3.5` is of the \"float\" data type. What are two other data types?"
   ]
  },
  {
   "cell_type": "code",
   "execution_count": null,
   "id": "acd8b243-d228-4c7e-8c53-ed2496e57d03",
   "metadata": {},
   "outputs": [],
   "source": []
  },
  {
   "cell_type": "markdown",
   "id": "41b6533c-71cd-45bd-b81c-665a0d4bd25e",
   "metadata": {},
   "source": [
    "### c. Append any kind of element to the list you defined above"
   ]
  },
  {
   "cell_type": "code",
   "execution_count": null,
   "id": "071482af-c330-4d01-90e4-ae58bc0a4708",
   "metadata": {},
   "outputs": [],
   "source": []
  },
  {
   "cell_type": "markdown",
   "id": "f3bbbce8-ac38-4ee1-90e0-c7fdf74a9481",
   "metadata": {},
   "source": [
    "## 2. Functions\n",
    "\n",
    "### a. What is the mean of the `ages` list? Store it as an appropriately named variable\n",
    "\n",
    "Hint: Use the `numpy` package here"
   ]
  },
  {
   "cell_type": "code",
   "execution_count": null,
   "id": "8a072393-b1ab-46e9-b99f-6f643a280045",
   "metadata": {},
   "outputs": [],
   "source": [
    "ages = [12, 15, 18, 16, 17]\n",
    "\n",
    "# Your work goes below here\n"
   ]
  },
  {
   "cell_type": "markdown",
   "id": "db5b3b57-7cff-4c89-a033-697eeb2db07c",
   "metadata": {},
   "source": [
    "### b. What is the median of the `ages` list? Store it as an appropriately named variable"
   ]
  },
  {
   "cell_type": "code",
   "execution_count": null,
   "id": "38e51140-4c8f-410a-aace-bcd523be8fd3",
   "metadata": {},
   "outputs": [],
   "source": []
  },
  {
   "cell_type": "markdown",
   "id": "2da71cfb-e1e0-4936-a4b9-7d252e90f4e5",
   "metadata": {},
   "source": [
    "### c. Test whether the mean of `ages` is greater than the median using a logical test and your variables from above"
   ]
  },
  {
   "cell_type": "code",
   "execution_count": null,
   "id": "0a861b19-5048-497b-8b1c-7bee86c4c106",
   "metadata": {},
   "outputs": [],
   "source": []
  },
  {
   "cell_type": "markdown",
   "id": "bb16a601-a193-4a23-bd58-1c8807ab9453",
   "metadata": {},
   "source": [
    "## 3. Custom functions\n",
    "\n",
    "### a. Complete this function which calculates the area of a circle given is radius r\n",
    "\n",
    "Hint: Mathematical constants like pi are given in the `numpy` package"
   ]
  },
  {
   "cell_type": "code",
   "execution_count": null,
   "id": "76ca23fe-0391-4df7-96c7-3021feb99c53",
   "metadata": {},
   "outputs": [],
   "source": [
    "def circle_area(r):\n",
    "    # Your code below here\n",
    "    "
   ]
  },
  {
   "cell_type": "markdown",
   "id": "d01178d2-7842-4997-8a3f-13d58a9d7617",
   "metadata": {},
   "source": [
    "### b. (for bonus!) Create a function which calculates the nth Fibonacci number\n",
    "\n",
    "Hint: Fibonacci numbers are created by summing the previous two Fibonacci numbers. The 1st Fibonacci number is `1`, the 2nd is `1`, the 3rd is `1+1=2`, the 4th is `1+2=3`, etc. So the whole series goes `1, 1, 2, 3, 5, 8, 13, 21, ...`."
   ]
  },
  {
   "cell_type": "code",
   "execution_count": null,
   "id": "f1f8954e-0333-40ad-beba-350488e5c0b4",
   "metadata": {},
   "outputs": [],
   "source": []
  },
  {
   "cell_type": "markdown",
   "id": "ba899bbe-760e-453a-a3bf-485b9081b3c0",
   "metadata": {},
   "source": [
    "## 4. Reading Data and Plotting\n",
    "\n",
    "### a. Read in `plot_data.csv` as a DataFrame and save it to a variable\n",
    "\n",
    "Hint: DataFrames are part of the `pandas` package"
   ]
  },
  {
   "cell_type": "code",
   "execution_count": null,
   "id": "da750ce1-1d54-41d7-9b82-83193c5005ce",
   "metadata": {},
   "outputs": [],
   "source": []
  },
  {
   "cell_type": "markdown",
   "id": "f4bc9ec2-b608-4bf7-9a02-0bb9e8139ebf",
   "metadata": {},
   "source": [
    "### b. Create a scatter plot of the data using both `y1` and `y2`\n",
    "\n",
    "Hint: You will essentially be creating two plots on top of each other, one which uses `x` and `y1`, and one which uses `x` and `y2`."
   ]
  },
  {
   "cell_type": "code",
   "execution_count": null,
   "id": "f0e45b0d-1516-4f4c-8adb-4b91eadc09a7",
   "metadata": {},
   "outputs": [],
   "source": []
  },
  {
   "cell_type": "markdown",
   "id": "5e215465-960c-44e4-8d42-a295263e2df9",
   "metadata": {},
   "source": [
    "### c. Complete this function which should represent the quadratic equation `y = ax^2 + bx + c`\n",
    "\n",
    "Hint: What operators will you need to use to make this equaiton a valid Python expression?"
   ]
  },
  {
   "cell_type": "code",
   "execution_count": null,
   "id": "ad3ac4b5-8187-45c7-8833-8f95e5ea74a5",
   "metadata": {},
   "outputs": [],
   "source": [
    "def quadratic(x, a, b, c):\n",
    "    # Your code below here\n",
    "    "
   ]
  },
  {
   "cell_type": "markdown",
   "id": "61e522d8-1bf9-407e-b27f-f15930e9d1b8",
   "metadata": {},
   "source": [
    "### d. Fit this function to each of `y1` and `y2` using an initial guess of (a = 1, b = 0, c = 0)\n",
    "\n",
    "Hint: You will need the `scipy` package here"
   ]
  },
  {
   "cell_type": "code",
   "execution_count": null,
   "id": "39e63c41-6937-47df-8925-e391c1ad35cb",
   "metadata": {},
   "outputs": [],
   "source": []
  },
  {
   "cell_type": "markdown",
   "id": "cb07d0c6-0f4e-49e0-99dd-ec273675be37",
   "metadata": {},
   "source": [
    "### e. Create the same scatter plot as in question `4.b`, but add the curves of best fit for each variable from quesiton `4.d`\n",
    "\n",
    "Hint: In total, you should be overlaying 4 plots on top of each other."
   ]
  },
  {
   "cell_type": "code",
   "execution_count": null,
   "id": "3a00c41c-c052-4807-a0e4-83bf7007d736",
   "metadata": {},
   "outputs": [],
   "source": []
  },
  {
   "cell_type": "markdown",
   "id": "a8c04f40-808b-498f-a0dc-088e51e7c0e2",
   "metadata": {},
   "source": [
    "## 5. FITS images (use the internet and creativity!)\n",
    "\n",
    "### a. Read in the `Red.fits`, `Green.fits`, and `Blue.fits` files and print out their summaries\n",
    "\n",
    "Hint: Remember that `.info()` function?"
   ]
  },
  {
   "cell_type": "code",
   "execution_count": null,
   "id": "d64e7686-d021-4a4e-8445-d56f7ceeaeca",
   "metadata": {},
   "outputs": [],
   "source": []
  },
  {
   "cell_type": "markdown",
   "id": "b4bdaf71-b1c8-4d81-90a5-cc0c882d04b4",
   "metadata": {},
   "source": [
    "### b. Use the header for `Red.fits` to find the R.A. and declination of the reference pixel, and save these to appropriately named variables\n",
    "\n",
    "Hint: Print out the header of the main layer, and read the header descriptions to find the appropriate variables."
   ]
  },
  {
   "cell_type": "code",
   "execution_count": null,
   "id": "a4f93d34-be54-482a-9c69-ea6bd4ff40e3",
   "metadata": {},
   "outputs": [],
   "source": []
  },
  {
   "cell_type": "markdown",
   "id": "c9960b38-3de7-4b06-9754-ed9b63be1c46",
   "metadata": {},
   "source": [
    "### c. Plot the `Red.fits` image using an appropriate colorscale (e.g. black to red)"
   ]
  },
  {
   "cell_type": "code",
   "execution_count": null,
   "id": "944053e5-ef92-4239-9ca0-50164fc47ce5",
   "metadata": {},
   "outputs": [],
   "source": []
  },
  {
   "cell_type": "markdown",
   "id": "3732aa92-7034-4e21-a331-33c0715fee9d",
   "metadata": {},
   "source": [
    "### d. How many pixels in the red image have values greater than the average brightness?"
   ]
  },
  {
   "cell_type": "code",
   "execution_count": null,
   "id": "c398ae15-da1d-4ff8-a035-a80cd163bc92",
   "metadata": {},
   "outputs": [],
   "source": []
  },
  {
   "cell_type": "markdown",
   "id": "6e3409e8-02e0-4e39-a803-1391b590ac53",
   "metadata": {},
   "source": [
    "### e. Plot the red image where pixels below the average brightness are black and pixels above the average brightness are white"
   ]
  },
  {
   "cell_type": "code",
   "execution_count": null,
   "id": "8379844d-8e24-4185-bdc8-cc4ddf048b66",
   "metadata": {},
   "outputs": [],
   "source": []
  },
  {
   "cell_type": "markdown",
   "id": "369bcd94-f5ab-4bf9-aca3-f60f66c36798",
   "metadata": {},
   "source": [
    "### f. Create a 2-by-2 plot which shows the red image, the green image, the blue image, and an image combining all three colors"
   ]
  },
  {
   "cell_type": "code",
   "execution_count": null,
   "id": "3d308ac7-8f8e-46c3-a1af-0fa9bf730ba2",
   "metadata": {},
   "outputs": [],
   "source": []
  },
  {
   "cell_type": "markdown",
   "id": "66bbfcd1-21df-4530-85d5-c01d0382f189",
   "metadata": {},
   "source": [
    "### g. Create and save a new FITS image which contains the red, green, and blue images as separate layers"
   ]
  },
  {
   "cell_type": "code",
   "execution_count": null,
   "id": "85f0dc90-413e-4db7-af5b-f1ba779d92c5",
   "metadata": {},
   "outputs": [],
   "source": []
  }
 ],
 "metadata": {
  "kernelspec": {
   "display_name": "Python 3",
   "language": "python",
   "name": "python3"
  },
  "language_info": {
   "codemirror_mode": {
    "name": "ipython",
    "version": 3
   },
   "file_extension": ".py",
   "mimetype": "text/x-python",
   "name": "python",
   "nbconvert_exporter": "python",
   "pygments_lexer": "ipython3",
   "version": "3.9.1"
  }
 },
 "nbformat": 4,
 "nbformat_minor": 5
}
